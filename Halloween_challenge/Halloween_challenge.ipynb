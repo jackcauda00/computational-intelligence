{
 "cells": [
  {
   "cell_type": "markdown",
   "id": "185f9931-b384-4fdc-a5b2-eea785428bb8",
   "metadata": {},
   "source": [
    "Copyright **`(c)`** 2023 Giovanni Squillero `<giovanni.squillero@polito.it>`  \n",
    "[`https://github.com/squillero/computational-intelligence`](https://github.com/squillero/computational-intelligence)  \n",
    "Free for personal or classroom use; see [`LICENSE.md`](https://github.com/squillero/computational-intelligence/blob/master/LICENSE.md) for details.  "
   ]
  },
  {
   "cell_type": "code",
   "execution_count": 40,
   "id": "3ffe7245-e849-41d0-9698-5f0e0b83fee9",
   "metadata": {},
   "outputs": [],
   "source": [
    "from itertools import product\n",
    "from random import random, choice, randint, shuffle, seed\n",
    "from functools import reduce\n",
    "from collections import namedtuple\n",
    "from queue import PriorityQueue, SimpleQueue, LifoQueue\n",
    "from scipy import sparse\n",
    "from copy import copy\n",
    "\n",
    "import numpy as np"
   ]
  },
  {
   "cell_type": "code",
   "execution_count": 41,
   "id": "545465c4",
   "metadata": {},
   "outputs": [],
   "source": [
    "NUM_SET = 5_000\n",
    "NUM_POINTS = 5_000\n",
    "DENSITY = .3\n",
    "COUNT = 0\n",
    "tabu_list=[]"
   ]
  },
  {
   "cell_type": "code",
   "execution_count": 42,
   "id": "6f03bd67-78a0-4d72-95b7-77a918727b91",
   "metadata": {},
   "outputs": [],
   "source": [
    "def make_set_covering_problem(num_points, num_sets, density):\n",
    "    \"\"\"Returns a sparse array where rows are sets and columns are the covered items\"\"\"\n",
    "    seed(num_points*2654435761+num_sets+density)\n",
    "    sets = sparse.lil_array((num_sets, num_points), dtype=bool)\n",
    "    for s, p in product(range(num_sets), range(num_points)):\n",
    "        if random() < density:\n",
    "            sets[s, p] = True\n",
    "    for p in range(num_points):\n",
    "        sets[randint(0, num_sets-1), p] = True\n",
    "    return sets"
   ]
  },
  {
   "cell_type": "markdown",
   "id": "82b0be37-21d9-492d-9a1d-cf0cdf0ddd76",
   "metadata": {},
   "source": [
    "# Halloween Challenge\n",
    "\n",
    "Find the best solution with the fewest calls to the fitness functions for:\n",
    "\n",
    "* `num_points = [100, 1_000, 5_000]`\n",
    "* `num_sets = num_points`\n",
    "* `density = [.3, .7]` "
   ]
  },
  {
   "cell_type": "code",
   "execution_count": 43,
   "id": "ef2d9f4a",
   "metadata": {},
   "outputs": [],
   "source": [
    "x = make_set_covering_problem(NUM_SET, NUM_POINTS, DENSITY)\n"
   ]
  },
  {
   "cell_type": "code",
   "execution_count": 44,
   "id": "4a341c43",
   "metadata": {},
   "outputs": [],
   "source": [
    "\n",
    "def fitness(state): \n",
    "    global COUNT\n",
    "    COUNT = COUNT + 1\n",
    "    cost = sum(state)\n",
    "    valid = np.sum(\n",
    "        reduce(\n",
    "            np.logical_or,  #x[i,j] --> it is a matrix \n",
    "            [[x[i,j] for j in range(NUM_POINTS)] for i, t in enumerate(state) if t], \n",
    "            np.array([False for _ in range(NUM_POINTS)]),\n",
    "        )\n",
    "    )\n",
    "    return valid, -cost"
   ]
  },
  {
   "cell_type": "code",
   "execution_count": 45,
   "id": "ac85b51b",
   "metadata": {},
   "outputs": [],
   "source": [
    "def tweak(state): \n",
    "    new_state = copy(state)\n",
    "    index = randint(0, NUM_POINTS - 1)\n",
    "    new_state[index] = not new_state[index]\n",
    "    return new_state"
   ]
  },
  {
   "cell_type": "code",
   "execution_count": 48,
   "id": "221ffdba-5d3d-48cc-bd08-45ccc9366ea6",
   "metadata": {},
   "outputs": [],
   "source": [
    "#PROFESSOR VERSION FOR COMPARING THE RESULTS\n",
    "current_state = [False for _ in range(NUM_SET)] \n",
    "\n",
    "for step in range(500):\n",
    "    new_state = tweak(current_state)\n",
    "    if fitness(new_state) >= fitness(current_state):\n",
    "        current_state = new_state\n"
   ]
  },
  {
   "cell_type": "code",
   "execution_count": null,
   "id": "6492337b-8429-472d-9c3e-c79c5b46da54",
   "metadata": {},
   "outputs": [],
   "source": [
    "print(current_state)"
   ]
  },
  {
   "cell_type": "code",
   "execution_count": 46,
   "id": "0ef52653",
   "metadata": {},
   "outputs": [],
   "source": [
    "\n",
    "current_state = [False for _ in range(NUM_SET)] #set up of current state --> it starts all False\n",
    "COUNT=0\n",
    "#This version is updated with the tabu_list. In the tabu_list we insert the states already encountered, so in the future the computation will be faster \n",
    "for step in range(500):\n",
    "    new_state = tweak(current_state)\n",
    "    if not new_state in tabu_list:\n",
    "        if fitness(new_state) >= fitness(current_state):\n",
    "            current_state = new_state\n",
    "            tabu_list.append(current_state)\n",
    "        else:  \n",
    "            #new state will be inserted in the list of the ones that will be excluded\n",
    "            tabu_list.append(new_state) \n",
    " "
   ]
  },
  {
   "cell_type": "code",
   "execution_count": null,
   "id": "64be7b38",
   "metadata": {},
   "outputs": [],
   "source": [
    "print(COUNT) #COUNT is the number of call to the function fitness\n",
    "print(fitness(current_state)) #we stamp ncurrent_state to see the final arriving point "
   ]
  }
 ],
 "metadata": {
  "kernelspec": {
   "display_name": "Python 3 (ipykernel)",
   "language": "python",
   "name": "python3"
  },
  "language_info": {
   "codemirror_mode": {
    "name": "ipython",
    "version": 3
   },
   "file_extension": ".py",
   "mimetype": "text/x-python",
   "name": "python",
   "nbconvert_exporter": "python",
   "pygments_lexer": "ipython3",
   "version": "3.12.0"
  }
 },
 "nbformat": 4,
 "nbformat_minor": 5
}
